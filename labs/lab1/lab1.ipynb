{
 "cells": [
  {
   "cell_type": "markdown",
   "metadata": {},
   "source": [
    "# Lab 1: Neural Network From Scratch"
   ]
  },
  {
   "cell_type": "markdown",
   "metadata": {},
   "source": [
    "This exercise consists of two parts:\n",
    "\n",
    "- Part 1: NN from scratch (in-class exercise)\n",
    "- Part 2: Recap Sentiment Analysis system in Sklearn (homework)\n"
   ]
  },
  {
   "cell_type": "markdown",
   "metadata": {},
   "source": [
    "### Part I: Neural Network from scratch\n",
    "\n",
    "In this exercise you will implement the forward step of a FFNN from scratch and compare your solution to Keras. It is very important that you understand the basic building blocks (how to encode your instances, the labels, how to do the forward pass and apply the weights, activation function etc). It is essential to understand the basic mechanisms, as that is what underlies many of the deep learning toolkits nowadays and the more advanced models."
   ]
  },
  {
   "cell_type": "markdown",
   "metadata": {},
   "source": [
    "You are going to implement the forward step manually on a small dataset. \n",
    "\n",
    "We are assuming multi-class classification tasks. The labels are $$ y \\in \\{a,b,c\\}$$\n",
    "\n",
    "The input data consists of 4 features each encoding a numeric value:"
   ]
  },
  {
   "cell_type": "code",
   "execution_count": 1,
   "metadata": {},
   "outputs": [],
   "source": [
    "import numpy as np\n",
    "\n",
    "classes = [\"a\",\"b\",\"c\"]"
   ]
  },
  {
   "cell_type": "code",
   "execution_count": 2,
   "metadata": {},
   "outputs": [],
   "source": [
    "## training data\n",
    "data_train = np.array([\n",
    "                       [5,3,2,2],\n",
    "                       [1,3,4,5],\n",
    "                       [1,2,3,4],\n",
    "                       [0,3,1,5],\n",
    "                       [1,3,1,1]\n",
    "                    ])\n",
    "\n",
    "labels_train = [\"a\", \"b\", \"c\", \"b\", \"b\"]\n"
   ]
  },
  {
   "cell_type": "markdown",
   "metadata": {},
   "source": [
    "### Step 1: Forward pass\n",
    "\n",
    "Implement the forward pass using `numpy` for the feedforward neural network illustrated in the figure.\n",
    "\n",
    "* How many neurons does hidden layer 1 and hidden layer 2 have? Note: the bias note is not shown in the figure, consider them as separate neurons.\n",
    "* How many neurons does the output layer have? And the input layer?\n",
    "* Assume there is a `tanh` activation function between the layers. (hint: you can use `np.tanh`)\n",
    "* Which activation function is on the output layer, given the labels above?\n",
    "* Hint: use `.shape` to check the dimensions of your inputs\n",
    "\n",
    "<img src=\"nn.svg\">\n"
   ]
  },
  {
   "cell_type": "markdown",
   "metadata": {},
   "source": [
    "Specify the size of the various parts of the feedforward neural network. You can use helper variables such as `input_dim = ?` or `hidden_dim1 = ?` etc."
   ]
  },
  {
   "cell_type": "code",
   "execution_count": 50,
   "metadata": {},
   "outputs": [],
   "source": [
    "## helper functions to determine sizes\n",
    "input_dim = None\n"
   ]
  },
  {
   "cell_type": "markdown",
   "metadata": {},
   "source": [
    "Define the shape of the parameters to be learned for this network using numpy arrays. For now, simply initialize them with ones or random numbers (`np.ones((3,4))` defines a matrix of ones of size `3x4`, similarly, [np.random.randn](https://www.numpy.org/devdocs/reference/generated/numpy.random.randn.html) `np.random.randn(3,4)` initializes a matrix of the same size with random sample from the standard normal distribution.\n",
    "\n",
    "* What are all the parameters of this neural network and what is their shape?\n"
   ]
  },
  {
   "cell_type": "code",
   "execution_count": 51,
   "metadata": {},
   "outputs": [],
   "source": [
    "## define all parameters of this NN\n"
   ]
  },
  {
   "cell_type": "markdown",
   "metadata": {},
   "source": [
    "Now that we have defined the shape of all parameters, we are ready to \"connect the dots\" and build the network. \n",
    "\n",
    "It is instructive to break the computation of each layer down into two steps: the scores $a1$ are obtained by the linear function followed by the activation applications $\\sigma$ to obtain the representation $z1$, as in:\n",
    "\n",
    "$$ a1 = xW_1 + b_1$$\n",
    "$$ z1 = \\sigma(a1)$$\n",
    "\n",
    "Specify the entire network up to the output layer $z3$, and **up to and exclusive** the final application of the softmax, the last activation function, which is provided.\n",
    "\n",
    "The exact implementation of the softmax might differ from toolkit to toolkit (due to variations in implementation details in order to obtain numerical stability). Therefore, we will use the Keras backend function for the softmax calculation which accesses the tensorflow `Tensor` object. This makes sure that the manual calculations of the forward pass due not differ from the Keras-based implementation just because of the difference in the softmax calculation."
   ]
  },
  {
   "cell_type": "code",
   "execution_count": 38,
   "metadata": {},
   "outputs": [],
   "source": [
    "## use this softmax\n",
    "## imports for softmax\n",
    "from keras import backend as K\n",
    "from keras  import activations\n",
    "\n",
    "    def keras_softmax(scores):\n",
    "        ## softmax calculation\n",
    "        var = K.variable(value=scores)\n",
    "        act_tf = activations.softmax(var) # returns Tensor\n",
    "        softmax_scores = K.eval(act_tf) # return numpy array\n",
    "        return softmax_scores\n"
   ]
  },
  {
   "cell_type": "code",
   "execution_count": 39,
   "metadata": {},
   "outputs": [
    {
     "name": "stdout",
     "output_type": "stream",
     "text": [
      "(5, 3)\n"
     ]
    }
   ],
   "source": [
    "\n",
    "## implement the forward pass (up to and exclusive the softmax) \n",
    "## apply it to the training data `data_train` - use vectorization\n",
    "\n",
    "final_scores = None\n",
    "y_hat_manual = keras_softmax(final_scores)\n"
   ]
  },
  {
   "cell_type": "code",
   "execution_count": 40,
   "metadata": {},
   "outputs": [
    {
     "name": "stdout",
     "output_type": "stream",
     "text": [
      "(5, 3)\n"
     ]
    }
   ],
   "source": [
    "## the resulting predictions will be the softmax activations for each output neuron for each training instance\n",
    "print(y_hat_manual.shape)"
   ]
  },
  {
   "cell_type": "markdown",
   "metadata": {},
   "source": [
    "We can check that all predictions sum up to approximately 1 (hint: use `np.sum` with `axis`)\n",
    "\n"
   ]
  },
  {
   "cell_type": "code",
   "execution_count": 41,
   "metadata": {},
   "outputs": [
    {
     "data": {
      "text/plain": [
       "array([1., 1., 1., 1., 1.], dtype=float32)"
      ]
     },
     "execution_count": 41,
     "metadata": {},
     "output_type": "execute_result"
    }
   ],
   "source": [
    "np.sum(y_hat_manual, axis=1)"
   ]
  },
  {
   "cell_type": "markdown",
   "metadata": {},
   "source": [
    "\n",
    "Congrats! you have made it through the manual construction of the forward pass. Now lets check your implementation by comparing it to a set of pre-determined weights."
   ]
  },
  {
   "cell_type": "markdown",
   "metadata": {},
   "source": [
    "### Load pre-trained model weights and test weights on evaluation file to check your implementation"
   ]
  },
  {
   "cell_type": "markdown",
   "metadata": {},
   "source": [
    "Now we are going to:\n",
    "* load pretrained weights for all parameters\n",
    "* apply the weights to the evaluation data `data_eval`\n",
    "* check that your manual softmax scores match the ones obtained by the pre-trained model `model` that we will load\n",
    "* convert the output to labels and calculate the accuracy score"
   ]
  },
  {
   "cell_type": "code",
   "execution_count": 42,
   "metadata": {},
   "outputs": [],
   "source": [
    "import pickle\n",
    "with open(\"data/weights.pickle\",\"rb\") as f:\n",
    "    weights = pickle.load(f)"
   ]
  },
  {
   "cell_type": "markdown",
   "metadata": {},
   "source": [
    "Inspect the weights you just loaded. "
   ]
  },
  {
   "cell_type": "code",
   "execution_count": 43,
   "metadata": {},
   "outputs": [],
   "source": [
    "## what do the weights contain?\n",
    "\n"
   ]
  },
  {
   "cell_type": "markdown",
   "metadata": {},
   "source": [
    "Apply your manual implementation of the forward pass to the evaluation data by using the parameters (weights) you just loaded. This allows you to check if you get the same results back as the model implemented in Keras. "
   ]
  },
  {
   "cell_type": "code",
   "execution_count": 44,
   "metadata": {},
   "outputs": [],
   "source": [
    "data_eval = np.array([\n",
    "                       [1,2,3,5],\n",
    "                       [1,3,1,0],\n",
    "                    ])\n",
    "\n",
    "gold_labels_eval = [\"c\", \"b\"]\n",
    "y_eval = np.array([[0,0,1],[0,1,0]])"
   ]
  },
  {
   "cell_type": "code",
   "execution_count": 45,
   "metadata": {},
   "outputs": [
    {
     "name": "stdout",
     "output_type": "stream",
     "text": [
      "[[0.04939969 0.70884377 0.24175657]\n",
      " [0.1849665  0.5900223  0.22501126]]\n"
     ]
    }
   ],
   "source": [
    "from keras.models import load_model\n",
    "\n",
    "model = load_model('data/model.h5') # load model parameters and model structure\n",
    "\n",
    "# use the model for predicting on the data_eval\n",
    "\n"
   ]
  },
  {
   "cell_type": "markdown",
   "metadata": {},
   "source": [
    "Now use the weights stored in  `weights` to your manually defined forward pass above. Compare the result to the predictions of the loaded model above."
   ]
  },
  {
   "cell_type": "code",
   "execution_count": 46,
   "metadata": {},
   "outputs": [
    {
     "name": "stdout",
     "output_type": "stream",
     "text": [
      "[[-1.64962824  1.01406278 -0.06164092]\n",
      " [-0.35048741  0.80949804 -0.15451172]]\n",
      "softmax:\n",
      "[[0.04939969 0.70884377 0.24175662]\n",
      " [0.18496649 0.5900222  0.22501126]]\n"
     ]
    }
   ],
   "source": [
    "# load the weights and code up the forward pass manually. Compare to the predictions above.\n",
    "scores = None\n",
    "\n",
    "print(scores)\n",
    "print(\"softmax:\")\n",
    "print(keras_softmax(scores))"
   ]
  },
  {
   "cell_type": "markdown",
   "metadata": {},
   "source": [
    "If the two softmax outputs match your implementation is correct. Congrats!"
   ]
  },
  {
   "cell_type": "markdown",
   "metadata": {},
   "source": [
    "### Convert labels to 1-hot representation and evaluate the classifier\n",
    "\n",
    "In this section, we are going to convert the softmax output into actual predicted labels. Then, we evaluate the labels on the output.\n",
    "\n",
    "Many deep learning libraries require one-hot representations for labels, where each dimension corresponds to an output neuron.\n",
    "\n",
    "For example, an instance labeled as 'c' is represent in the one-hot target vector as:\n"
   ]
  },
  {
   "cell_type": "code",
   "execution_count": 571,
   "metadata": {},
   "outputs": [
    {
     "data": {
      "text/plain": [
       "['a', 'b', 'c']"
      ]
     },
     "execution_count": 571,
     "metadata": {},
     "output_type": "execute_result"
    }
   ],
   "source": [
    "target_vector = [0,0,1] # target vector for class 'c'\n",
    "\n",
    "classes"
   ]
  },
  {
   "cell_type": "markdown",
   "metadata": {},
   "source": [
    "Let us convert the predicted softmax scores above to the actual predicted label and compare it to the gold standard labels."
   ]
  },
  {
   "cell_type": "code",
   "execution_count": 572,
   "metadata": {},
   "outputs": [
    {
     "name": "stdout",
     "output_type": "stream",
     "text": [
      "['c', 'b']\n"
     ]
    }
   ],
   "source": [
    "# implement the conversion of softmax scores to actual labels (a list of labels like [\"a\",\"a\"])\n",
    "\n"
   ]
  },
  {
   "cell_type": "code",
   "execution_count": 573,
   "metadata": {},
   "outputs": [
    {
     "name": "stdout",
     "output_type": "stream",
     "text": [
      "predicted: ['c', 'b']\n",
      "gold: ['c', 'b']\n",
      "accuracy: 1.0\n"
     ]
    }
   ],
   "source": [
    "## calculate accuracy\n",
    "# implement accuracy"
   ]
  },
  {
   "cell_type": "markdown",
   "metadata": {},
   "source": [
    "N.B. Keras has a useful [utility function](https://keras.io/utils/) `to_categorical` to convert categorical data into binary one-hot encodings for training the model. The input to the function has to be numeric, i.e., labels converted to indices (corresponding to the classes, e.g., `2` for `c`).\n",
    "\n",
    "```\n",
    "y_train_one_hot = utils.to_categorical(labels_train_num, num_classes=len(classes))\n",
    "```"
   ]
  },
  {
   "cell_type": "markdown",
   "metadata": {},
   "source": [
    "### Build the model yourself in Keras"
   ]
  },
  {
   "cell_type": "markdown",
   "metadata": {},
   "source": [
    "Try to build the model that was used to generate the weights above in Keras. Play with the model, change its hyperparameters and observe what happens.\n",
    "\n",
    "* Build the network yourself in Keras (Suggestion: use the functional API)\n",
    "* You will need to convert the training data labels to the one-hot format\n",
    "* Train the network with `SGD` as defined below for 5 epochs. \n",
    "* Modify the hyperparameters of the model (learning rate, number of neurons in the hidden layer, optimizer..) and observe the impact on performance.\n"
   ]
  },
  {
   "cell_type": "code",
   "execution_count": 576,
   "metadata": {},
   "outputs": [],
   "source": [
    "from keras import optimizers\n",
    "sgd = optimizers.SGD(lr=0.05)\n"
   ]
  },
  {
   "cell_type": "code",
   "execution_count": 493,
   "metadata": {},
   "outputs": [
    {
     "name": "stdout",
     "output_type": "stream",
     "text": [
      "_________________________________________________________________\n",
      "Layer (type)                 Output Shape              Param #   \n",
      "=================================================================\n",
      "input_58 (InputLayer)        (None, 4)                 0         \n",
      "_________________________________________________________________\n",
      "dense_172 (Dense)            (None, 15)                75        \n",
      "_________________________________________________________________\n",
      "dense_173 (Dense)            (None, 20)                320       \n",
      "_________________________________________________________________\n",
      "dense_174 (Dense)            (None, 3)                 63        \n",
      "=================================================================\n",
      "Total params: 458\n",
      "Trainable params: 458\n",
      "Non-trainable params: 0\n",
      "_________________________________________________________________\n"
     ]
    }
   ],
   "source": [
    "model.summary()"
   ]
  },
  {
   "cell_type": "markdown",
   "metadata": {},
   "source": [
    "### Part 2: Recap sentiment analysis exercise with sklearn\n",
    "\n",
    "Solve the exercise.\n"
   ]
  },
  {
   "cell_type": "code",
   "execution_count": null,
   "metadata": {},
   "outputs": [],
   "source": []
  }
 ],
 "metadata": {
  "kernelspec": {
   "display_name": "Python 3",
   "language": "python",
   "name": "python3"
  },
  "language_info": {
   "codemirror_mode": {
    "name": "ipython",
    "version": 3
   },
   "file_extension": ".py",
   "mimetype": "text/x-python",
   "name": "python",
   "nbconvert_exporter": "python",
   "pygments_lexer": "ipython3",
   "version": "3.6.7"
  }
 },
 "nbformat": 4,
 "nbformat_minor": 2
}
